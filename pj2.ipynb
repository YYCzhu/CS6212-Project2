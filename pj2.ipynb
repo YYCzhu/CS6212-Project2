{
 "cells": [
  {
   "cell_type": "code",
   "execution_count": 24,
   "id": "47bf8b0c",
   "metadata": {},
   "outputs": [],
   "source": [
    "import random\n",
    "\n",
    "def KruskalMST(G, W):\n",
    "    n = len(G)\n",
    "    T = []\n",
    "    edges = []\n",
    "    #read the edges from weight matrix \n",
    "    for i in range(n):\n",
    "        for j in range(i+1, n):\n",
    "            if(W[i][j]!=0):\n",
    "                edges.append((W[i][j], i, j))\n",
    "    #sort the edges by weight\n",
    "    edges.sort()\n",
    "    j = 0\n",
    "    num_edges = 0\n",
    "    # for each vertex to create individual sets, one for each vertex.\n",
    "    for vertex in G:\n",
    "        make_set(vertex)\n",
    "    while num_edges < n-1:\n",
    "        w, u, v = edges[j]\n",
    "        j += 1\n",
    "        if find(u) != find(v):\n",
    "            T.append((u,v))\n",
    "            num_edges += 1\n",
    "            union(u,v)\n",
    "    return T\n",
    "  \n",
    "# Disjoint set functions  \n",
    "parent = {}\n",
    "rank = {}\n",
    "\n",
    "def make_set(vertice):\n",
    "    parent[vertice] = vertice\n",
    "    rank[vertice] = 0\n",
    "\n",
    "def find(node):\n",
    "    # Recursively navigate to the leader (root) node of the set\n",
    "    if parent[node] == node:\n",
    "        return node\n",
    "    parent[node] = find(parent[node])  # Path compression\n",
    "    return parent[node]\n",
    "\n",
    "# Define union function\n",
    "def union(u, v):\n",
    "    root1 = find(u)\n",
    "    root2 = find(v)\n",
    "    \n",
    "    # If the roots are the same, no need to merge as they are already in the same set.\n",
    "    if root1 != root2:\n",
    "        #add node to the smaller rank root\n",
    "        if rank[root1] < rank[root2]:\n",
    "            parent[root1] = root2\n",
    "        elif rank[root1] > rank[root2]:\n",
    "            parent[root2] = root1\n",
    "        else:\n",
    "            # If ranks are equal, choose one root arbitrarily and increment its rank.\n",
    "            parent[root2] = root1\n",
    "            rank[root1] += 1\n",
    "\n",
    "\n",
    "\n",
    "\n"
   ]
  },
  {
   "cell_type": "code",
   "execution_count": 25,
   "id": "459bfae6",
   "metadata": {},
   "outputs": [
    {
     "name": "stdout",
     "output_type": "stream",
     "text": [
      "61363000\n"
     ]
    }
   ],
   "source": [
    "import random\n",
    "import time\n",
    "\n",
    "# function to randomly Generate connected graph for test\n",
    "def generate_random_connected_graph(num_vertices, num_edges, max_weight):\n",
    "    # Create a list of vertices [0, 1, 2, ..., num_vertices-1]\n",
    "    \n",
    "    G = list(range(num_vertices))\n",
    "    \n",
    "    # Create an empty weight matrix\n",
    "    W = [[0] * num_vertices for _ in range(num_vertices)]\n",
    "    \n",
    "    # Initialize the graph with a spanning tree (connected)\n",
    "    for i in range(1, num_vertices):\n",
    "        j = random.randint(0, i - 1)\n",
    "        weight = random.randint(1, max_weight)  # Random weight between 1 and max_weight\n",
    "        W[i][j] = W[j][i] = weight  # Assign random weights\n",
    "    \n",
    "    # Keep track of the number of added edges\n",
    "    num_added_edges = num_vertices - 1\n",
    "    \n",
    "    # Add the remaining edges to reach the desired number of edges\n",
    "    while num_added_edges < num_edges:\n",
    "        i, j = random.sample(G, 2)  # Randomly select two different vertices\n",
    "        if W[i][j] == 0:  # Ensure we don't overwrite existing edges\n",
    "            weight = random.randint(1, max_weight)  # Random weight between 1 and max_weight\n",
    "            W[i][j] = W[j][i] = weight\n",
    "            num_added_edges += 1\n",
    "    \n",
    "    return G, W\n",
    "\n",
    "\n",
    "num_vertices = 1500\n",
    "\n",
    "num_edges = 10000\n",
    "max_weight = 10\n",
    "G, W = generate_random_connected_graph(num_vertices, num_edges, max_weight)\n",
    "#start time\n",
    "st = time.time_ns()\n",
    "KruskalMST(G, W)\n",
    "#end time\n",
    "et = time.time_ns()\n",
    "print(et-st)\n",
    "        \n"
   ]
  },
  {
   "cell_type": "code",
   "execution_count": 9,
   "id": "59ce89ac",
   "metadata": {},
   "outputs": [
    {
     "name": "stdout",
     "output_type": "stream",
     "text": [
      "10000\n",
      "5781000\n"
     ]
    }
   ],
   "source": []
  },
  {
   "cell_type": "code",
   "execution_count": null,
   "id": "591b7fc7",
   "metadata": {},
   "outputs": [],
   "source": []
  },
  {
   "cell_type": "code",
   "execution_count": null,
   "id": "1ba89dbf",
   "metadata": {},
   "outputs": [],
   "source": []
  }
 ],
 "metadata": {
  "kernelspec": {
   "display_name": "Python 3 (ipykernel)",
   "language": "python",
   "name": "python3"
  },
  "language_info": {
   "codemirror_mode": {
    "name": "ipython",
    "version": 3
   },
   "file_extension": ".py",
   "mimetype": "text/x-python",
   "name": "python",
   "nbconvert_exporter": "python",
   "pygments_lexer": "ipython3",
   "version": "3.11.4"
  }
 },
 "nbformat": 4,
 "nbformat_minor": 5
}
